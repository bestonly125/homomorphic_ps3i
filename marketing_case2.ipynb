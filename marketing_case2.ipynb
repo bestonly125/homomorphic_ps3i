{
 "cells": [
  {
   "cell_type": "code",
   "execution_count": 1,
   "metadata": {
    "ExecuteTime": {
     "end_time": "2023-04-14T18:32:54.871899Z",
     "start_time": "2023-04-14T18:32:54.850202Z"
    }
   },
   "outputs": [],
   "source": [
    "from phe import paillier\n",
    "import numpy as np\n",
    "from openpyxl import load_workbook\n",
    "import time"
   ]
  },
  {
   "cell_type": "code",
   "execution_count": 2,
   "metadata": {
    "ExecuteTime": {
     "end_time": "2023-04-14T18:32:54.873313Z",
     "start_time": "2023-04-14T18:32:54.855876Z"
    },
    "collapsed": false,
    "jupyter": {
     "outputs_hidden": false
    }
   },
   "outputs": [],
   "source": [
    "start_time = time.time()"
   ]
  },
  {
   "cell_type": "code",
   "execution_count": 3,
   "metadata": {
    "ExecuteTime": {
     "end_time": "2023-04-14T18:34:25.764444Z",
     "start_time": "2023-04-14T18:32:54.864077Z"
    },
    "collapsed": false,
    "jupyter": {
     "outputs_hidden": false
    }
   },
   "outputs": [],
   "source": [
    "wb = load_workbook(\"marketing_case2.xlsx\")\n",
    "ws1 = wb[\"A1\"]\n",
    "ws2 = wb[\"B1\"]\n",
    "n = 10000"
   ]
  },
  {
   "cell_type": "markdown",
   "metadata": {},
   "source": [
    "# Bank of data"
   ]
  },
  {
   "cell_type": "markdown",
   "metadata": {},
   "source": []
  },
  {
   "cell_type": "code",
   "execution_count": 4,
   "metadata": {
    "ExecuteTime": {
     "end_time": "2023-04-14T18:34:25.805780Z",
     "start_time": "2023-04-14T18:34:25.805361Z"
    },
    "collapsed": false,
    "jupyter": {
     "outputs_hidden": false
    }
   },
   "outputs": [],
   "source": [
    "class Bank:\n",
    "  def __init__(self, public_key):\n",
    "    self.records = []\n",
    "    for i in range(2,n):\n",
    "        if i%5000 == 0:\n",
    "            print(i)\n",
    "        phone_number = ws1[\"A\" + str(i)].value\n",
    "        spending = np.random.uniform(0, 100)\n",
    "        timestamp = np.random.randint(0, 100)\n",
    "        self.records.append((phone_number, public_key.encrypt(spending), timestamp))"
   ]
  },
  {
   "cell_type": "markdown",
   "metadata": {},
   "source": [
    "# Advertisement Hub"
   ]
  },
  {
   "cell_type": "code",
   "execution_count": 5,
   "metadata": {
    "ExecuteTime": {
     "end_time": "2023-04-14T18:34:25.806057Z",
     "start_time": "2023-04-14T18:34:25.805671Z"
    },
    "collapsed": false,
    "jupyter": {
     "outputs_hidden": false
    }
   },
   "outputs": [],
   "source": [
    "class AdvertisementHub:\n",
    "     def __init__(self, public_key):\n",
    "         self.records = []\n",
    "         for i in range(2, n):\n",
    "             if i%5000 == 0:\n",
    "                print(i)\n",
    "             phone_number = ws2[\"A\" + str(i)].value\n",
    "             advertisement_views = np.random.randint(0, 10)\n",
    "             timestamp = np.random.randint(0, 100)\n",
    "             self.records.append((phone_number, public_key.encrypt(advertisement_views), timestamp))"
   ]
  },
  {
   "cell_type": "markdown",
   "metadata": {},
   "source": [
    "# PS3I"
   ]
  },
  {
   "cell_type": "code",
   "execution_count": 6,
   "metadata": {
    "ExecuteTime": {
     "end_time": "2023-04-14T18:34:25.806248Z",
     "start_time": "2023-04-14T18:34:25.805977Z"
    }
   },
   "outputs": [],
   "source": [
    "class PS3I:\n",
    "        def __init__(self, bank, advertisement_hub, public_key):\n",
    "            self.bank = bank\n",
    "            self.advertisement_hub = advertisement_hub\n",
    "            self.public_key = public_key\n",
    "            # self.encryptor = paillier.PaillierEncryptor(self.public_key)\n",
    "\n",
    "        def encrypt_records(self, records):\n",
    "            encrypted_record = self.public_key.encrypt(records)\n",
    "            return encrypted_record\n",
    "\n",
    "        def decrypt_record(self, encrypted_record):\n",
    "            record = [val.decrypt() for val in encrypted_record]\n",
    "            return record\n",
    "\n",
    "        def intersect(self):\n",
    "            bank_records = self.bank.records\n",
    "            ad_records = self.advertisement_hub.records\n",
    "            result = []\n",
    "            for bank_record in bank_records:\n",
    "                for ad_record in ad_records:\n",
    "                    if bank_record[0] == ad_record[0]:\n",
    "                        result.append((self.encrypt_records(bank_record[0]), bank_record[1], ad_record[1], bank_record[2]))\n",
    "            return bank_records\n",
    "\n",
    "        def calculate_risk(self, epsilon):\n",
    "            intersection_size = len(self.intersect())\n",
    "            bank_size = len(self.bank.records)\n",
    "            advertisement_hub_size = len(self.advertisement_hub.records)\n",
    "            privacy_budget = bank_size * advertisement_hub_size / intersection_size\n",
    "            risk_level = epsilon / privacy_budget\n",
    "            return risk_level"
   ]
  },
  {
   "cell_type": "markdown",
   "metadata": {},
   "source": [
    " # Example usage:"
   ]
  },
  {
   "cell_type": "code",
   "execution_count": 7,
   "metadata": {
    "ExecuteTime": {
     "end_time": "2023-04-14T18:35:11.158552Z",
     "start_time": "2023-04-14T18:34:25.806307Z"
    },
    "collapsed": false,
    "jupyter": {
     "outputs_hidden": false
    }
   },
   "outputs": [
    {
     "name": "stdout",
     "output_type": "stream",
     "text": [
      "5000\n",
      "5000\n"
     ]
    }
   ],
   "source": [
    "public_key, private_key = paillier.generate_paillier_keypair()\n",
    "bank = Bank(public_key)\n",
    "advertisement_hub = AdvertisementHub(public_key)\n",
    "ps3i = PS3I(bank, advertisement_hub, public_key)"
   ]
  },
  {
   "cell_type": "markdown",
   "metadata": {},
   "source": [
    "# Perform homomorphic addition and multiplication to calculate the sum of spending and advertisement views"
   ]
  },
  {
   "cell_type": "code",
   "execution_count": 8,
   "metadata": {
    "ExecuteTime": {
     "end_time": "2023-04-14T18:35:11.669534Z",
     "start_time": "2023-04-14T18:35:11.160081Z"
    },
    "collapsed": false,
    "jupyter": {
     "outputs_hidden": false
    }
   },
   "outputs": [],
   "source": [
    "spending_sum = public_key.encrypt(0)\n",
    "ad_views_sum = public_key.encrypt(0)\n",
    "for bank_record in bank.records:\n",
    "     spending_sum += bank_record[1]\n",
    "for ad_record in advertisement_hub.records:\n",
    "     ad_views_sum += ad_record[1]"
   ]
  },
  {
   "cell_type": "markdown",
   "metadata": {},
   "source": [
    "# Decrypt the homomorphically computed results"
   ]
  },
  {
   "cell_type": "code",
   "execution_count": 9,
   "metadata": {
    "ExecuteTime": {
     "end_time": "2023-04-14T18:30:20.129888Z",
     "start_time": "2023-04-14T18:30:14.592887Z"
    },
    "collapsed": false,
    "jupyter": {
     "outputs_hidden": false
    }
   },
   "outputs": [
    {
     "name": "stdout",
     "output_type": "stream",
     "text": [
      "Intersection size = 9998\n",
      "Risk level = 1.0002000400080017e-05 = 0.0000100020\n",
      "time = 149.2117377082507min\n"
     ]
    }
   ],
   "source": [
    "spending_sum = private_key.decrypt(spending_sum)\n",
    "ad_views_sum = private_key.decrypt(ad_views_sum)\n",
    "\n",
    "intersection = ps3i.intersect()\n",
    "risk_level = ps3i.calculate_risk(0.1)\n",
    "end_time = time.time()\n",
    "value = format(float(risk_level),\".10f\")\n",
    "print(f\"Intersection size = {len(intersection)}\")\n",
    "print(f\"Risk level = {risk_level} = {value}\")\n",
    "print(f\"time = {(end_time - start_time) / 60}min\")"
   ]
  },
  {
   "cell_type": "code",
   "execution_count": null,
   "metadata": {
    "collapsed": false,
    "jupyter": {
     "outputs_hidden": false
    }
   },
   "outputs": [],
   "source": []
  }
 ],
 "metadata": {
  "kernelspec": {
   "display_name": "Python 3 (ipykernel)",
   "language": "python",
   "name": "python3"
  },
  "language_info": {
   "codemirror_mode": {
    "name": "ipython",
    "version": 3
   },
   "file_extension": ".py",
   "mimetype": "text/x-python",
   "name": "python",
   "nbconvert_exporter": "python",
   "pygments_lexer": "ipython3",
   "version": "3.8.10"
  }
 },
 "nbformat": 4,
 "nbformat_minor": 4
}
