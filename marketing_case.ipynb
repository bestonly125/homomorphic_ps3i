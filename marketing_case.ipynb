{
 "cells": [
  {
   "cell_type": "code",
   "execution_count": 1,
   "metadata": {},
   "outputs": [],
   "source": [
    "from phe import paillier\n",
    "import numpy as np\n",
    "from openpyxl import load_workbook\n",
    "import time"
   ]
  },
  {
   "cell_type": "code",
   "execution_count": 2,
   "metadata": {
    "collapsed": false,
    "jupyter": {
     "outputs_hidden": false
    }
   },
   "outputs": [],
   "source": [
    "start_time = time.time()"
   ]
  },
  {
   "cell_type": "code",
   "execution_count": 3,
   "metadata": {
    "collapsed": false,
    "jupyter": {
     "outputs_hidden": false
    }
   },
   "outputs": [],
   "source": [
    "wb = load_workbook(\"marketing_case.xlsx\")\n",
    "ws1 = wb[\"A1\"]\n",
    "ws2 = wb[\"B1\"]\n",
    "n = 50000"
   ]
  },
  {
   "cell_type": "markdown",
   "metadata": {},
   "source": [
    "# Bank of data"
   ]
  },
  {
   "cell_type": "code",
   "execution_count": 4,
   "metadata": {
    "collapsed": false,
    "jupyter": {
     "outputs_hidden": false
    }
   },
   "outputs": [],
   "source": [
    "class Bank:\n",
    "  def __init__(self, public_key):\n",
    "    self.records = []\n",
    "    for i in range(2,n):\n",
    "        if i%5000 == 0:\n",
    "            print(i)\n",
    "        phone_number = ws1[\"A\" + str(i)].value\n",
    "        spending = np.random.uniform(0, 1000)\n",
    "        timestamp = np.random.randint(0, 1000)\n",
    "        self.records.append((phone_number, public_key.encrypt(spending), timestamp))"
   ]
  },
  {
   "cell_type": "markdown",
   "metadata": {},
   "source": [
    "# Advertisement Hub"
   ]
  },
  {
   "cell_type": "code",
   "execution_count": 5,
   "metadata": {
    "collapsed": false,
    "jupyter": {
     "outputs_hidden": false
    }
   },
   "outputs": [],
   "source": [
    "class AdvertisementHub:\n",
    "     def __init__(self, public_key):\n",
    "         self.records = []\n",
    "         for i in range(2, n):\n",
    "             if i%5000 == 0:\n",
    "                 print(i)\n",
    "             phone_number = ws2[\"A\" + str(i)].value\n",
    "             advertisement_views = np.random.randint(0, 10)\n",
    "             timestamp = np.random.randint(0, 1000)\n",
    "             self.records.append((phone_number, public_key.encrypt(advertisement_views), timestamp))"
   ]
  },
  {
   "cell_type": "markdown",
   "metadata": {},
   "source": [
    "# PS3I"
   ]
  },
  {
   "cell_type": "code",
   "execution_count": 6,
   "metadata": {
    "collapsed": false,
    "jupyter": {
     "outputs_hidden": false
    }
   },
   "outputs": [],
   "source": [
    "class PS3I:\n",
    "     def __init__(self, bank, advertisement_hub, public_key):\n",
    "         self.bank = bank\n",
    "         self.advertisement_hub = advertisement_hub\n",
    "         self.public_key = public_key\n",
    "     def intersect(self):\n",
    "         result = []\n",
    "         for bank_record in self.bank.records:\n",
    "             for ad_record in self.advertisement_hub.records:\n",
    "                 if bank_record[0] == ad_record[0]:\n",
    "                     result.append((bank_record[0], bank_record[1], ad_record[1], bank_record[2]))\n",
    "         return result\n",
    "     def calculate_risk(self, epsilon):\n",
    "         intersection_size = len(self.intersect())\n",
    "         bank_size = len(self.bank.records)\n",
    "         advertisement_hub_size = len(self.advertisement_hub.records)\n",
    "         privacy_budget = bank_size * advertisement_hub_size / intersection_size\n",
    "         risk_level = epsilon / privacy_budget\n",
    "         return risk_level"
   ]
  },
  {
   "cell_type": "markdown",
   "metadata": {},
   "source": [
    " # Example usage:"
   ]
  },
  {
   "cell_type": "code",
   "execution_count": 7,
   "metadata": {
    "collapsed": false,
    "jupyter": {
     "outputs_hidden": false
    }
   },
   "outputs": [
    {
     "name": "stdout",
     "output_type": "stream",
     "text": [
      "5000\n",
      "10000\n",
      "15000\n",
      "20000\n",
      "25000\n",
      "30000\n",
      "35000\n",
      "40000\n",
      "45000\n",
      "5000\n",
      "10000\n",
      "15000\n",
      "20000\n",
      "25000\n",
      "30000\n",
      "35000\n",
      "40000\n",
      "45000\n"
     ]
    }
   ],
   "source": [
    "public_key, private_key = paillier.generate_paillier_keypair()\n",
    "bank = Bank(public_key)\n",
    "advertisement_hub = AdvertisementHub(public_key)\n",
    "ps3i = PS3I(bank, advertisement_hub, public_key)"
   ]
  },
  {
   "cell_type": "markdown",
   "metadata": {},
   "source": [
    "# Perform homomorphic addition and multiplication to calculate the sum of spending and advertisement views"
   ]
  },
  {
   "cell_type": "code",
   "execution_count": 8,
   "metadata": {
    "collapsed": false,
    "jupyter": {
     "outputs_hidden": false
    }
   },
   "outputs": [],
   "source": [
    "spending_sum = public_key.encrypt(0)\n",
    "ad_views_sum = public_key.encrypt(0)\n",
    "for bank_record in bank.records:\n",
    "     spending_sum += bank_record[1]\n",
    "for ad_record in advertisement_hub.records:\n",
    "     ad_views_sum += ad_record[1]"
   ]
  },
  {
   "cell_type": "markdown",
   "metadata": {},
   "source": [
    "# Perform homomorphic multiplication to calculate the product of spending and advertisement views"
   ]
  },
  {
   "cell_type": "code",
   "execution_count": 9,
   "metadata": {
    "collapsed": false,
    "jupyter": {
     "outputs_hidden": false
    }
   },
   "outputs": [],
   "source": [
    "spending_ad_views_product = public_key.encrypt(0)\n",
    "for bank_record in bank.records:\n",
    "     for ad_record in advertisement_hub.records:\n",
    "         if bank_record[0] == ad_record[0] and bank_record[2] == ad_record[2]:\n",
    "             spending_ad_views_product += bank_record[1] * ad_record[1]"
   ]
  },
  {
   "cell_type": "markdown",
   "metadata": {},
   "source": [
    "# Decrypt the homomorphically computed results"
   ]
  },
  {
   "cell_type": "code",
   "execution_count": 10,
   "metadata": {
    "collapsed": false,
    "jupyter": {
     "outputs_hidden": false
    }
   },
   "outputs": [
    {
     "name": "stdout",
     "output_type": "stream",
     "text": [
      "Intersection size:  128\n",
      "Risk level:  5.120409624577311e-09\n",
      "time: 22654.31810235977\n"
     ]
    }
   ],
   "source": [
    "spending_sum = private_key.decrypt(spending_sum)\n",
    "ad_views_sum = private_key.decrypt(ad_views_sum)\n",
    "spending_ad_views_product = private_key.decrypt(spending_ad_views_product)\n",
    "intersection = ps3i.intersect()\n",
    "risk_level = ps3i.calculate_risk(0.1)\n",
    "end_time = time.time()\n",
    "print(\"Intersection size: \", len(intersection))\n",
    "print(\"Risk level: \", risk_level)\n",
    "print(\"time:\", end_time-start_time)"
   ]
  }
 ],
 "metadata": {
  "kernelspec": {
   "display_name": "Python 3 (ipykernel)",
   "language": "python",
   "name": "python3"
  },
  "language_info": {
   "codemirror_mode": {
    "name": "ipython",
    "version": 3
   },
   "file_extension": ".py",
   "mimetype": "text/x-python",
   "name": "python",
   "nbconvert_exporter": "python",
   "pygments_lexer": "ipython3",
   "version": "3.8.10"
  }
 },
 "nbformat": 4,
 "nbformat_minor": 4
}
